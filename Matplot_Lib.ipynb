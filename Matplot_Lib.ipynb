{
  "nbformat": 4,
  "nbformat_minor": 0,
  "metadata": {
    "colab": {
      "name": "Matplot Lib.ipynb",
      "provenance": [],
      "collapsed_sections": []
    },
    "kernelspec": {
      "name": "python3",
      "display_name": "Python 3"
    },
    "language_info": {
      "name": "python"
    }
  },
  "cells": [
    {
      "cell_type": "markdown",
      "source": [
        "**MATPLOT LIBRARY**"
      ],
      "metadata": {
        "id": "Ng-LQxg1HmHI"
      }
    },
    {
      "cell_type": "markdown",
      "source": [
        "Load necessary libraries"
      ],
      "metadata": {
        "id": "dhPgOXBqIIQI"
      }
    },
    {
      "cell_type": "code",
      "execution_count": 11,
      "metadata": {
        "id": "Rp2DjY_HHhNQ"
      },
      "outputs": [],
      "source": [
        "import matplotlib.pyplot as plt\n",
        "import numpy as np\n",
        "import pandas as pd"
      ]
    },
    {
      "cell_type": "markdown",
      "source": [
        "Basic Graph"
      ],
      "metadata": {
        "id": "opnuwjb-If9Q"
      }
    },
    {
      "cell_type": "code",
      "source": [
        "x = [1,2,3]\n",
        "y = [2,4,6]\n",
        "\n",
        "#plt.plot(x,y , label = '2x' , linewidth = 2 , color = 'red' , linestyle = '--' ,  marker = '.' ,  markersize = '10' , markeredgecolor = 'blue')\n",
        "#shortcut for above line\n",
        "#format = '[color][marker][line]'\n",
        "\n",
        "#resize graph\n",
        "plt.figure(figsize = (2,3) ,dpi = 300)\n",
        "\n",
        "plt.plot(x,y , 'b^--' , label = '2x')\n",
        "\n",
        "# select interval we want to plot points at\n",
        "# line number two\n",
        "x2 = np.arange(0,4,0.5)\n",
        "plt.plot(x2[:6],x2[:6]**2 , label = 'x2^2')\n",
        "plt.plot(x2[5:],x2[5:]**2 , 'r--' , label = 'x2^2')\n",
        "\n",
        "# line number three\n",
        "plt.plot(x2,np.sin(x2) , label = 'sin(x)')\n",
        "\n",
        "#adding tittles and labels\n",
        "plt.title('First Graph' , fontdict = {'fontname' : 'Arial' , 'fontsize' : '30'})\n",
        "plt.xlabel('x-axis')\n",
        "plt.ylabel('y-axis')\n",
        "\n",
        "plt.savefig('first graph', dpi = 300)\n",
        "plt.legend()\n",
        "plt.show()"
      ],
      "metadata": {
        "id": "B3nJbzOaIhu_"
      },
      "execution_count": null,
      "outputs": []
    },
    {
      "cell_type": "code",
      "source": [
        "plt.xticks([1,2,4]) # this ticks is used to get only integer\n",
        "plt.yticks([2,4,8]) # this ticks is used to get only integer\n",
        "\n",
        "plt.plot(x,y)"
      ],
      "metadata": {
        "id": "oKHuJLuRK7XB"
      },
      "execution_count": null,
      "outputs": []
    },
    {
      "cell_type": "markdown",
      "source": [
        "Bar Graph"
      ],
      "metadata": {
        "id": "qsppwyW0nnqN"
      }
    },
    {
      "cell_type": "code",
      "source": [
        "labels = ['CAR A' , 'CAR B' , 'CAR C' , 'CAR D']\n",
        "values = [3,5,2,4]\n",
        "\n",
        "bars = plt.bar(labels , values)\n",
        "\n",
        "bars[0].set_hatch('.')\n",
        "bars[1].set_hatch('/')\n",
        "bars[2].set_hatch('o')\n",
        "bars[3].set_hatch('*')\n",
        "\n",
        "plt.show()"
      ],
      "metadata": {
        "id": "bguLN_4pnpdC"
      },
      "execution_count": null,
      "outputs": []
    },
    {
      "cell_type": "markdown",
      "source": [
        "Line Graph"
      ],
      "metadata": {
        "id": "htJojIsLrVTv"
      }
    },
    {
      "cell_type": "code",
      "source": [
        "gas = pd.read_csv('https://raw.githubusercontent.com/KeithGalli/matplotlib_tutorial/master/gas_prices.csv') # always take raw data!!!\n",
        "# print(gas)\n",
        "\n",
        "plt.figure(figsize=(10,7))\n",
        "\n",
        "plt.plot(gas.Year , gas.Australia, 'r.--' , label = 'Australia')\n",
        "plt.plot(gas.Year , gas.USA, 'b.--' , label = 'USA')\n",
        "plt.plot(gas.Year , gas['Canada'] , 'g.--' ,  label = 'Canada')\n",
        "plt.plot(gas.Year , gas['South Korea'] , 'y.--' ,  label = 'South Korea')\n",
        "\n",
        "# another way to plot values\n",
        "# for country in gas:\n",
        "#      if country != 'Year' :\n",
        "#             plt.plot(gas.Year , gas[country] , marker = '.')\n",
        "        \n",
        "\n",
        "plt.title('Gas prices over years (in USD)' , fontdict = {'fontweight': 'bold'})\n",
        "\n",
        "plt.xticks(gas.Year[::3])\n",
        "plt.xlabel('Year')\n",
        "plt.ylabel('US Dollars')\n",
        "\n",
        "plt.savefig('gas prices.png')\n",
        "plt.legend()\n",
        "plt.show()"
      ],
      "metadata": {
        "id": "8dGLyByZrXPh"
      },
      "execution_count": null,
      "outputs": []
    },
    {
      "cell_type": "markdown",
      "source": [
        "**Load FIFA Description**"
      ],
      "metadata": {
        "id": "F3dXMKLW5CKL"
      }
    },
    {
      "cell_type": "code",
      "source": [
        "fifa = pd.read_csv('https://raw.githubusercontent.com/KeithGalli/matplotlib_tutorial/master/fifa_data.csv')\n",
        "fifa\n",
        "fifa .head(5)"
      ],
      "metadata": {
        "colab": {
          "base_uri": "https://localhost:8080/",
          "height": 403
        },
        "id": "h6XJrWCT4ZCb",
        "outputId": "b7581cc1-55e1-4675-cf34-cdfecaf143cb"
      },
      "execution_count": 57,
      "outputs": [
        {
          "output_type": "execute_result",
          "data": {
            "text/plain": [
              "   Unnamed: 0      ID               Name  Age  \\\n",
              "0           0  158023           L. Messi   31   \n",
              "1           1   20801  Cristiano Ronaldo   33   \n",
              "2           2  190871          Neymar Jr   26   \n",
              "3           3  193080             De Gea   27   \n",
              "4           4  192985       K. De Bruyne   27   \n",
              "\n",
              "                                            Photo Nationality  \\\n",
              "0  https://cdn.sofifa.org/players/4/19/158023.png   Argentina   \n",
              "1   https://cdn.sofifa.org/players/4/19/20801.png    Portugal   \n",
              "2  https://cdn.sofifa.org/players/4/19/190871.png      Brazil   \n",
              "3  https://cdn.sofifa.org/players/4/19/193080.png       Spain   \n",
              "4  https://cdn.sofifa.org/players/4/19/192985.png     Belgium   \n",
              "\n",
              "                                  Flag  Overall  Potential  \\\n",
              "0  https://cdn.sofifa.org/flags/52.png       94         94   \n",
              "1  https://cdn.sofifa.org/flags/38.png       94         94   \n",
              "2  https://cdn.sofifa.org/flags/54.png       92         93   \n",
              "3  https://cdn.sofifa.org/flags/45.png       91         93   \n",
              "4   https://cdn.sofifa.org/flags/7.png       91         92   \n",
              "\n",
              "                  Club  ... Composure Marking StandingTackle  SlidingTackle  \\\n",
              "0         FC Barcelona  ...      96.0    33.0           28.0           26.0   \n",
              "1             Juventus  ...      95.0    28.0           31.0           23.0   \n",
              "2  Paris Saint-Germain  ...      94.0    27.0           24.0           33.0   \n",
              "3    Manchester United  ...      68.0    15.0           21.0           13.0   \n",
              "4      Manchester City  ...      88.0    68.0           58.0           51.0   \n",
              "\n",
              "  GKDiving  GKHandling  GKKicking  GKPositioning GKReflexes Release Clause  \n",
              "0      6.0        11.0       15.0           14.0        8.0        €226.5M  \n",
              "1      7.0        11.0       15.0           14.0       11.0        €127.1M  \n",
              "2      9.0         9.0       15.0           15.0       11.0        €228.1M  \n",
              "3     90.0        85.0       87.0           88.0       94.0        €138.6M  \n",
              "4     15.0        13.0        5.0           10.0       13.0        €196.4M  \n",
              "\n",
              "[5 rows x 89 columns]"
            ],
            "text/html": [
              "\n",
              "  <div id=\"df-75696351-9a8f-49ad-bd58-4adcaaac1cc4\">\n",
              "    <div class=\"colab-df-container\">\n",
              "      <div>\n",
              "<style scoped>\n",
              "    .dataframe tbody tr th:only-of-type {\n",
              "        vertical-align: middle;\n",
              "    }\n",
              "\n",
              "    .dataframe tbody tr th {\n",
              "        vertical-align: top;\n",
              "    }\n",
              "\n",
              "    .dataframe thead th {\n",
              "        text-align: right;\n",
              "    }\n",
              "</style>\n",
              "<table border=\"1\" class=\"dataframe\">\n",
              "  <thead>\n",
              "    <tr style=\"text-align: right;\">\n",
              "      <th></th>\n",
              "      <th>Unnamed: 0</th>\n",
              "      <th>ID</th>\n",
              "      <th>Name</th>\n",
              "      <th>Age</th>\n",
              "      <th>Photo</th>\n",
              "      <th>Nationality</th>\n",
              "      <th>Flag</th>\n",
              "      <th>Overall</th>\n",
              "      <th>Potential</th>\n",
              "      <th>Club</th>\n",
              "      <th>...</th>\n",
              "      <th>Composure</th>\n",
              "      <th>Marking</th>\n",
              "      <th>StandingTackle</th>\n",
              "      <th>SlidingTackle</th>\n",
              "      <th>GKDiving</th>\n",
              "      <th>GKHandling</th>\n",
              "      <th>GKKicking</th>\n",
              "      <th>GKPositioning</th>\n",
              "      <th>GKReflexes</th>\n",
              "      <th>Release Clause</th>\n",
              "    </tr>\n",
              "  </thead>\n",
              "  <tbody>\n",
              "    <tr>\n",
              "      <th>0</th>\n",
              "      <td>0</td>\n",
              "      <td>158023</td>\n",
              "      <td>L. Messi</td>\n",
              "      <td>31</td>\n",
              "      <td>https://cdn.sofifa.org/players/4/19/158023.png</td>\n",
              "      <td>Argentina</td>\n",
              "      <td>https://cdn.sofifa.org/flags/52.png</td>\n",
              "      <td>94</td>\n",
              "      <td>94</td>\n",
              "      <td>FC Barcelona</td>\n",
              "      <td>...</td>\n",
              "      <td>96.0</td>\n",
              "      <td>33.0</td>\n",
              "      <td>28.0</td>\n",
              "      <td>26.0</td>\n",
              "      <td>6.0</td>\n",
              "      <td>11.0</td>\n",
              "      <td>15.0</td>\n",
              "      <td>14.0</td>\n",
              "      <td>8.0</td>\n",
              "      <td>€226.5M</td>\n",
              "    </tr>\n",
              "    <tr>\n",
              "      <th>1</th>\n",
              "      <td>1</td>\n",
              "      <td>20801</td>\n",
              "      <td>Cristiano Ronaldo</td>\n",
              "      <td>33</td>\n",
              "      <td>https://cdn.sofifa.org/players/4/19/20801.png</td>\n",
              "      <td>Portugal</td>\n",
              "      <td>https://cdn.sofifa.org/flags/38.png</td>\n",
              "      <td>94</td>\n",
              "      <td>94</td>\n",
              "      <td>Juventus</td>\n",
              "      <td>...</td>\n",
              "      <td>95.0</td>\n",
              "      <td>28.0</td>\n",
              "      <td>31.0</td>\n",
              "      <td>23.0</td>\n",
              "      <td>7.0</td>\n",
              "      <td>11.0</td>\n",
              "      <td>15.0</td>\n",
              "      <td>14.0</td>\n",
              "      <td>11.0</td>\n",
              "      <td>€127.1M</td>\n",
              "    </tr>\n",
              "    <tr>\n",
              "      <th>2</th>\n",
              "      <td>2</td>\n",
              "      <td>190871</td>\n",
              "      <td>Neymar Jr</td>\n",
              "      <td>26</td>\n",
              "      <td>https://cdn.sofifa.org/players/4/19/190871.png</td>\n",
              "      <td>Brazil</td>\n",
              "      <td>https://cdn.sofifa.org/flags/54.png</td>\n",
              "      <td>92</td>\n",
              "      <td>93</td>\n",
              "      <td>Paris Saint-Germain</td>\n",
              "      <td>...</td>\n",
              "      <td>94.0</td>\n",
              "      <td>27.0</td>\n",
              "      <td>24.0</td>\n",
              "      <td>33.0</td>\n",
              "      <td>9.0</td>\n",
              "      <td>9.0</td>\n",
              "      <td>15.0</td>\n",
              "      <td>15.0</td>\n",
              "      <td>11.0</td>\n",
              "      <td>€228.1M</td>\n",
              "    </tr>\n",
              "    <tr>\n",
              "      <th>3</th>\n",
              "      <td>3</td>\n",
              "      <td>193080</td>\n",
              "      <td>De Gea</td>\n",
              "      <td>27</td>\n",
              "      <td>https://cdn.sofifa.org/players/4/19/193080.png</td>\n",
              "      <td>Spain</td>\n",
              "      <td>https://cdn.sofifa.org/flags/45.png</td>\n",
              "      <td>91</td>\n",
              "      <td>93</td>\n",
              "      <td>Manchester United</td>\n",
              "      <td>...</td>\n",
              "      <td>68.0</td>\n",
              "      <td>15.0</td>\n",
              "      <td>21.0</td>\n",
              "      <td>13.0</td>\n",
              "      <td>90.0</td>\n",
              "      <td>85.0</td>\n",
              "      <td>87.0</td>\n",
              "      <td>88.0</td>\n",
              "      <td>94.0</td>\n",
              "      <td>€138.6M</td>\n",
              "    </tr>\n",
              "    <tr>\n",
              "      <th>4</th>\n",
              "      <td>4</td>\n",
              "      <td>192985</td>\n",
              "      <td>K. De Bruyne</td>\n",
              "      <td>27</td>\n",
              "      <td>https://cdn.sofifa.org/players/4/19/192985.png</td>\n",
              "      <td>Belgium</td>\n",
              "      <td>https://cdn.sofifa.org/flags/7.png</td>\n",
              "      <td>91</td>\n",
              "      <td>92</td>\n",
              "      <td>Manchester City</td>\n",
              "      <td>...</td>\n",
              "      <td>88.0</td>\n",
              "      <td>68.0</td>\n",
              "      <td>58.0</td>\n",
              "      <td>51.0</td>\n",
              "      <td>15.0</td>\n",
              "      <td>13.0</td>\n",
              "      <td>5.0</td>\n",
              "      <td>10.0</td>\n",
              "      <td>13.0</td>\n",
              "      <td>€196.4M</td>\n",
              "    </tr>\n",
              "  </tbody>\n",
              "</table>\n",
              "<p>5 rows × 89 columns</p>\n",
              "</div>\n",
              "      <button class=\"colab-df-convert\" onclick=\"convertToInteractive('df-75696351-9a8f-49ad-bd58-4adcaaac1cc4')\"\n",
              "              title=\"Convert this dataframe to an interactive table.\"\n",
              "              style=\"display:none;\">\n",
              "        \n",
              "  <svg xmlns=\"http://www.w3.org/2000/svg\" height=\"24px\"viewBox=\"0 0 24 24\"\n",
              "       width=\"24px\">\n",
              "    <path d=\"M0 0h24v24H0V0z\" fill=\"none\"/>\n",
              "    <path d=\"M18.56 5.44l.94 2.06.94-2.06 2.06-.94-2.06-.94-.94-2.06-.94 2.06-2.06.94zm-11 1L8.5 8.5l.94-2.06 2.06-.94-2.06-.94L8.5 2.5l-.94 2.06-2.06.94zm10 10l.94 2.06.94-2.06 2.06-.94-2.06-.94-.94-2.06-.94 2.06-2.06.94z\"/><path d=\"M17.41 7.96l-1.37-1.37c-.4-.4-.92-.59-1.43-.59-.52 0-1.04.2-1.43.59L10.3 9.45l-7.72 7.72c-.78.78-.78 2.05 0 2.83L4 21.41c.39.39.9.59 1.41.59.51 0 1.02-.2 1.41-.59l7.78-7.78 2.81-2.81c.8-.78.8-2.07 0-2.86zM5.41 20L4 18.59l7.72-7.72 1.47 1.35L5.41 20z\"/>\n",
              "  </svg>\n",
              "      </button>\n",
              "      \n",
              "  <style>\n",
              "    .colab-df-container {\n",
              "      display:flex;\n",
              "      flex-wrap:wrap;\n",
              "      gap: 12px;\n",
              "    }\n",
              "\n",
              "    .colab-df-convert {\n",
              "      background-color: #E8F0FE;\n",
              "      border: none;\n",
              "      border-radius: 50%;\n",
              "      cursor: pointer;\n",
              "      display: none;\n",
              "      fill: #1967D2;\n",
              "      height: 32px;\n",
              "      padding: 0 0 0 0;\n",
              "      width: 32px;\n",
              "    }\n",
              "\n",
              "    .colab-df-convert:hover {\n",
              "      background-color: #E2EBFA;\n",
              "      box-shadow: 0px 1px 2px rgba(60, 64, 67, 0.3), 0px 1px 3px 1px rgba(60, 64, 67, 0.15);\n",
              "      fill: #174EA6;\n",
              "    }\n",
              "\n",
              "    [theme=dark] .colab-df-convert {\n",
              "      background-color: #3B4455;\n",
              "      fill: #D2E3FC;\n",
              "    }\n",
              "\n",
              "    [theme=dark] .colab-df-convert:hover {\n",
              "      background-color: #434B5C;\n",
              "      box-shadow: 0px 1px 3px 1px rgba(0, 0, 0, 0.15);\n",
              "      filter: drop-shadow(0px 1px 2px rgba(0, 0, 0, 0.3));\n",
              "      fill: #FFFFFF;\n",
              "    }\n",
              "  </style>\n",
              "\n",
              "      <script>\n",
              "        const buttonEl =\n",
              "          document.querySelector('#df-75696351-9a8f-49ad-bd58-4adcaaac1cc4 button.colab-df-convert');\n",
              "        buttonEl.style.display =\n",
              "          google.colab.kernel.accessAllowed ? 'block' : 'none';\n",
              "\n",
              "        async function convertToInteractive(key) {\n",
              "          const element = document.querySelector('#df-75696351-9a8f-49ad-bd58-4adcaaac1cc4');\n",
              "          const dataTable =\n",
              "            await google.colab.kernel.invokeFunction('convertToInteractive',\n",
              "                                                     [key], {});\n",
              "          if (!dataTable) return;\n",
              "\n",
              "          const docLinkHtml = 'Like what you see? Visit the ' +\n",
              "            '<a target=\"_blank\" href=https://colab.research.google.com/notebooks/data_table.ipynb>data table notebook</a>'\n",
              "            + ' to learn more about interactive tables.';\n",
              "          element.innerHTML = '';\n",
              "          dataTable['output_type'] = 'display_data';\n",
              "          await google.colab.output.renderOutput(dataTable, element);\n",
              "          const docLink = document.createElement('div');\n",
              "          docLink.innerHTML = docLinkHtml;\n",
              "          element.appendChild(docLink);\n",
              "        }\n",
              "      </script>\n",
              "    </div>\n",
              "  </div>\n",
              "  "
            ]
          },
          "metadata": {},
          "execution_count": 57
        }
      ]
    },
    {
      "cell_type": "markdown",
      "source": [
        "Histograms"
      ],
      "metadata": {
        "id": "ptq_dDa86A_E"
      }
    },
    {
      "cell_type": "code",
      "source": [
        "bins = [0,10,20,30,40,50,60,70,80,90]\n",
        "plt.hist(fifa.Overall , color = '#abcdef')\n",
        "plt.xticks(bins)\n",
        "\n",
        "plt.xlabel('Skills of Playes')\n",
        "plt.ylabel('Number of Players')\n",
        "plt.title('Distribution of Player Skills in FIFA')\n",
        "\n",
        "plt.show()\n",
        "\n"
      ],
      "metadata": {
        "colab": {
          "base_uri": "https://localhost:8080/",
          "height": 294
        },
        "id": "qW4hef-I6EmV",
        "outputId": "e36f3144-90c4-445b-f61f-3329227f7e95"
      },
      "execution_count": 64,
      "outputs": [
        {
          "output_type": "display_data",
          "data": {
            "text/plain": [
              "<Figure size 432x288 with 1 Axes>"
            ],
            "image/png": "[encoded data removed]"
          },
          "metadata": {
            "needs_background": "light"
          }
        }
      ]
    },
    {
      "cell_type": "markdown",
      "source": [
        "**PIE Chart**"
      ],
      "metadata": {
        "id": "TQjf8qGP9eU3"
      }
    },
    {
      "cell_type": "code",
      "source": [
        "left = fifa.loc[fifa['Preferred Foot'] == 'Left'].count()[0]\n",
        "\n",
        "right = fifa.loc[fifa['Preferred Foot'] == 'Right'].count()[0]\n",
        "\n",
        "labels = ['left' , 'right']\n",
        "colors = ['#abcdef' , '#aabbcc']\n",
        "\n",
        "plt.pie([left , right] , labels = labels , colors = colors , autopct = '%.2f  %%') # this '%%' is used over here for to display % symbol once beside the the number like 23.19 and 76.81 in  diagram\n",
        "#AND '2f' is used so that we want point upto 2 decimals\n",
        "plt.show()"
      ],
      "metadata": {
        "id": "GWBnJWPZ9lD5"
      },
      "execution_count": 81,
      "outputs": []
    },
    {
      "cell_type": "markdown",
      "source": [
        "2nd PIE CHART"
      ],
      "metadata": {
        "id": "Wr3wnsTVBH0o"
      }
    },
    {
      "cell_type": "code",
      "source": [
        "fifa.Weight = [int(x.strip('lbs')) if type(x) ==str else x for x in fifa.Weight] # This statement is written to remove the unit of weight i.e 'lbs'\n",
        "fifa.Weight\n",
        "\n",
        "plt.style.use('default')\n",
        "\n",
        "light = fifa.loc[(fifa.Weight < 125)].count()[0]\n",
        "medium = fifa.loc[(fifa.Weight >=125) & (fifa.Weight < 200)].count()[0]\n",
        "heavy = fifa.loc[(fifa.Weight >= 200)].count()[0]\n",
        "\n",
        "\n",
        "print(light)\n",
        "print(medium)\n",
        "print(heavy)\n",
        "\n",
        "plt.title('Weight Distribution of Weight in LBS')\n",
        "\n",
        "labels = ['Under 125' , '125 - 200' , 'Above 200']\n",
        "explode = [0.4,0.4,0.4]\n",
        "plt.pie([light , medium , heavy] , labels = labels , autopct = '%2f %%' , pctdistance=0.8, explode = explode)\n",
        "\n",
        "plt.show()"
      ],
      "metadata": {
        "id": "RSYTYmNrBKkj"
      },
      "execution_count": null,
      "outputs": []
    },
    {
      "cell_type": "markdown",
      "source": [
        "**BOX PLOT**"
      ],
      "metadata": {
        "id": "FLRvEokwIEe2"
      }
    },
    {
      "cell_type": "code",
      "source": [
        "barcelona = fifa.loc[fifa.Club == 'FC Barcelona']['Overall']\n",
        "madrid = fifa.loc[fifa.Club == 'Real Madrid']['Overall']\n",
        "revs = fifa.loc[fifa.Club == 'New England Revolution']['Overall']\n",
        "\n",
        "labels = ['Barcelona' , 'Real Madrid' , 'New England Revolution']\n",
        "\n",
        "plt.boxplot([barcelona , madrid , revs] , labels = labels)\n",
        "\n",
        "plt.title('Comparision between Soccer Teams')\n",
        "plt.xlabel('Teams Names')\n",
        "plt.ylabel('Ratings ')\n",
        "\n",
        "plt.show()"
      ],
      "metadata": {
        "colab": {
          "base_uri": "https://localhost:8080/",
          "height": 528
        },
        "id": "lzLhiQkEGS_W",
        "outputId": "97a9f6a6-1f23-4e4b-c8d3-220bc1dad7a0"
      },
      "execution_count": 115,
      "outputs": [
        {
          "output_type": "stream",
          "name": "stderr",
          "text": [
            "/usr/local/lib/python3.7/dist-packages/matplotlib/cbook/__init__.py:1376: VisibleDeprecationWarning: Creating an ndarray from ragged nested sequences (which is a list-or-tuple of lists-or-tuples-or ndarrays with different lengths or shapes) is deprecated. If you meant to do this, you must specify 'dtype=object' when creating the ndarray.\n",
            "  X = np.atleast_1d(X.T if isinstance(X, np.ndarray) else np.asarray(X))\n"
          ]
        },
        {
          "output_type": "display_data",
          "data": {
            "text/plain": [
              "<Figure size 640x480 with 1 Axes>"
            ],
            "image/png": "[encoded data removed]"
          },
          "metadata": {}
        }
      ]
    },
    {
      "cell_type": "code",
      "source": [
        ""
      ],
      "metadata": {
        "id": "9rgL3pk1KRyj"
      },
      "execution_count": null,
      "outputs": []
    }
  ]
}